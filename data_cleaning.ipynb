{
 "cells": [
  {
   "cell_type": "markdown",
   "id": "fab97dbd",
   "metadata": {},
   "source": [
    "## Data Cleaning of files"
   ]
  },
  {
   "cell_type": "markdown",
   "id": "9ec1a15d",
   "metadata": {},
   "source": [
    "### Any changes can be made to generate new files"
   ]
  },
  {
   "cell_type": "code",
   "execution_count": 2,
   "id": "bbd4ddb2",
   "metadata": {
    "scrolled": true
   },
   "outputs": [
    {
     "name": "stdout",
     "output_type": "stream",
     "text": [
      "Enter File Name: 04-02-2019.csv\n",
      "Enter 'up' or 'down': up\n"
     ]
    }
   ],
   "source": [
    "import pandas as pd\n",
    "import numpy as np\n",
    "import os \n",
    "\n",
    "#input for any file name\n",
    "file_name=input(\"Enter File Name: \")\n",
    "journey=input(\"Enter 'up' or 'down': \").lower()\n",
    "file_path=os.path.join('week_data',journey, file_name)\n",
    "\n",
    "if not os.path.isfile(file_path):\n",
    "    print(f\"Error: File '{file_name}' does not exist.\")\n",
    "else:\n",
    "    df=pd.read_csv(file_path)\n"
   ]
  },
  {
   "cell_type": "code",
   "execution_count": 3,
   "id": "46f69411",
   "metadata": {
    "scrolled": true
   },
   "outputs": [],
   "source": [
    "#data renaming \n",
    "rename_stages = {\n",
    "    'THORAIPAKK|THURAIPAKK': 'THORAIPAKKAM',\n",
    "    'ANNA UNIVE': 'ANNA UNIV',\n",
    "    'MOOTAIKARA': 'M K CHAVADI',\n",
    "    'SHOZHANGAN|SHOZHINGAN': 'SHOLINGANALLUR',\n",
    "    'KELAMBAKKA':'KELAMBAKKAM',\n",
    "    'KOMAN NGR': 'KUMARAN NG',\n",
    "    'M.K. CHAVA': 'M K CHAVADI',\n",
    "    'WOMENS POL': 'WPTC',\n",
    "    'THIRUPPORU|TIRUPPORUR': 'THIRUPORUR'  \n",
    "}\n",
    "df = df.replace(rename_stages, regex=True)\n",
    "\n",
    "df['Source'] = df['Source'].str.strip()\n",
    "df['Destination'] = df['Destination'].str.strip()\n",
    "df['From Stage'] = df['From Stage'].str.strip()\n",
    "df['To Stage'] = df['To Stage'].str.strip()\n",
    "\n",
    "\n",
    "#convertion of time to datetime format for calculation\n",
    "df['Trip Start Time'] = pd.to_datetime(df['Trip Start Time'], format='%H:%M:%S')\n",
    "df['Trip End Time'] = pd.to_datetime(df['Trip End Time'], format='%H:%M:%S')\n",
    "\n",
    "#calculation of duration \n",
    "df['Duration'] = df['Trip End Time'] - df['Trip Start Time']\n",
    "df['Trip Start Time'] = df['Trip Start Time'].dt.time\n",
    "df['Trip End Time'] = df['Trip End Time'].dt.time\n",
    "df['Duration'] = df['Duration'].apply(lambda x: str(x).split()[-1])\n",
    "\n",
    "df['Duration'] = df['Duration'].astype(str)\n",
    "df = df[~df['Duration'].str.contains('+', regex=False)]\n",
    "df = df[(df['Duration'] != '00:00:00') & (df['Duration'] != '00:01:00')]\n",
    "df.drop(columns=['Duration'],inplace=True)\n"
   ]
  },
  {
   "cell_type": "code",
   "execution_count": 4,
   "id": "fdd4e169",
   "metadata": {},
   "outputs": [
    {
     "name": "stdout",
     "output_type": "stream",
     "text": [
      "Enter File Name to store : 04-02-19.csv\n",
      "<class 'pandas.core.frame.DataFrame'>\n",
      "RangeIndex: 56021 entries, 0 to 56020\n",
      "Data columns (total 30 columns):\n",
      " #   Column              Non-Null Count  Dtype \n",
      "---  ------              --------------  ----- \n",
      " 0   WayBill No          56021 non-null  object\n",
      " 1   Depot               56021 non-null  object\n",
      " 2   Schedule Name       56021 non-null  object\n",
      " 3   ETM No              56021 non-null  object\n",
      " 4   Out Date            56021 non-null  object\n",
      " 5   Out Time            56021 non-null  object\n",
      " 6   In Date             55868 non-null  object\n",
      " 7   In Time             56021 non-null  object\n",
      " 8   Total Amount        56021 non-null  int64 \n",
      " 9   Adult               56021 non-null  int64 \n",
      " 10  Child               56021 non-null  int64 \n",
      " 11  Ticket Issued Date  56021 non-null  object\n",
      " 12  Ticket Issued Time  56021 non-null  object\n",
      " 13  From Stage          56021 non-null  object\n",
      " 14  To Stage            56021 non-null  object\n",
      " 15  Fleet No            56021 non-null  object\n",
      " 16  Denomination        56021 non-null  int64 \n",
      " 17  Ticket Type         56021 non-null  object\n",
      " 18  Luggage             56021 non-null  int64 \n",
      " 19  Ticket_No           56021 non-null  object\n",
      " 20  Trip No             56021 non-null  int64 \n",
      " 21  Concession          56021 non-null  int64 \n",
      " 22  Conductor ID        56021 non-null  object\n",
      " 23  Driver ID           56021 non-null  object\n",
      " 24  Trip Start Date     56021 non-null  object\n",
      " 25  Trip Start Time     56021 non-null  object\n",
      " 26  Trip End Date       56021 non-null  object\n",
      " 27  Trip End Time       56021 non-null  object\n",
      " 28  Source              56021 non-null  object\n",
      " 29  Destination         56021 non-null  object\n",
      "dtypes: int64(7), object(23)\n",
      "memory usage: 12.8+ MB\n"
     ]
    }
   ],
   "source": [
    "#store the modified csv file\n",
    "file_name=input(\"Enter File Name to store : \")\n",
    "file_path=os.path.join('week_data',journey, file_name)\n",
    "\n",
    "df.to_csv(file_path,index=False)\n",
    "df=pd.read_csv(file_path)\n",
    "df.info()"
   ]
  },
  {
   "cell_type": "code",
   "execution_count": 6,
   "id": "f4a8b964",
   "metadata": {},
   "outputs": [
    {
     "data": {
      "text/plain": [
       "array(['PERUMBAKKAM', 'K.K.NAGAR', 'ADYAR', 'ANNA NAGAR', 'VADAPALANI',\n",
       "       'CENTRAL', 'CHROMEPET', 'TAMBARAM', 'THIRUVANMIYUR',\n",
       "       'CHEMMANCHERRY', 'SAIDAPET', 'KANNAGI NAGAR', 'BESANT NAGAR',\n",
       "       'CHROMPET-2', 'T.NAGAR'], dtype=object)"
      ]
     },
     "execution_count": 6,
     "metadata": {},
     "output_type": "execute_result"
    }
   ],
   "source": [
    "arr=df['Depot'].unique()\n",
    "arr"
   ]
  },
  {
   "cell_type": "code",
   "execution_count": 7,
   "id": "7017975b",
   "metadata": {},
   "outputs": [
    {
     "name": "stdout",
     "output_type": "stream",
     "text": [
      "15\n"
     ]
    }
   ],
   "source": [
    "print(len(arr))"
   ]
  },
  {
   "cell_type": "code",
   "execution_count": 14,
   "id": "357c5eeb",
   "metadata": {},
   "outputs": [
    {
     "data": {
      "text/plain": [
       "{'102',\n",
       " '102A',\n",
       " '102C',\n",
       " '102CT',\n",
       " '102K',\n",
       " '102P',\n",
       " '102S',\n",
       " '102X',\n",
       " '109',\n",
       " '119',\n",
       " '119CT',\n",
       " '119S',\n",
       " '119T',\n",
       " '19A',\n",
       " '19B',\n",
       " '19BET',\n",
       " '19D',\n",
       " '21L',\n",
       " '221',\n",
       " '221CT',\n",
       " '519',\n",
       " '519T',\n",
       " '522',\n",
       " '523',\n",
       " '523A',\n",
       " '568B',\n",
       " '570',\n",
       " '570C',\n",
       " '570ET',\n",
       " '570S',\n",
       " '570T',\n",
       " '91',\n",
       " '91ET',\n",
       " '91NS',\n",
       " '91V',\n",
       " '95',\n",
       " '95CTGS',\n",
       " '95G',\n",
       " '95NS',\n",
       " '95SP',\n",
       " '95X'}"
      ]
     },
     "execution_count": 14,
     "metadata": {},
     "output_type": "execute_result"
    }
   ],
   "source": [
    "df=pd.read_csv(chosen_file)\n",
    "arr=df['Schedule Name'].unique()\n",
    "filtered_identifiers = {identifier.split('-')[0] for identifier in arr}\n",
    "filtered_identifiers"
   ]
  },
  {
   "cell_type": "code",
   "execution_count": 19,
   "id": "448b8649",
   "metadata": {},
   "outputs": [
    {
     "data": {
      "text/plain": [
       "array(['THIRUPORUR', 'ADYAR B.S.'], dtype=object)"
      ]
     },
     "execution_count": 19,
     "metadata": {},
     "output_type": "execute_result"
    }
   ],
   "source": [
    "temp_df=df[df['Schedule Name']=='519-A1-AS-MDE']\n",
    "unique_df=temp_df['Source'].unique()\n",
    "unique_df"
   ]
  },
  {
   "cell_type": "code",
   "execution_count": null,
   "id": "c5a39a32",
   "metadata": {},
   "outputs": [],
   "source": []
  }
 ],
 "metadata": {
  "kernelspec": {
   "display_name": "Python 3 (ipykernel)",
   "language": "python",
   "name": "python3"
  },
  "language_info": {
   "codemirror_mode": {
    "name": "ipython",
    "version": 3
   },
   "file_extension": ".py",
   "mimetype": "text/x-python",
   "name": "python",
   "nbconvert_exporter": "python",
   "pygments_lexer": "ipython3",
   "version": "3.11.5"
  }
 },
 "nbformat": 4,
 "nbformat_minor": 5
}
