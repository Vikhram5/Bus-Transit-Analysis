{
 "cells": [
  {
   "cell_type": "code",
   "execution_count": 83,
   "id": "7f4b3ebd",
   "metadata": {
    "scrolled": true
   },
   "outputs": [],
   "source": [
    "import pandas as pd\n",
    "import datetime\n",
    "\n",
    "df=pd.read_csv('04-02-19.csv')\n",
    "cols=['Schedule Name','Adult','Ticket Issued Time','From Stage','To Stage','Source','Destination']\n",
    "df=df[cols]\n",
    "\n",
    "# bus_no =519\n",
    "# df = df[df['Schedule Name'].str.contains(rf'\\b{bus_no}\\b')]\n",
    "df=df[df['Schedule Name']=='519-A1-AS-MDE']\n",
    "df=df[(df['Source']=='T.NAGAR') & (df['Destination']=='THIRUPORUR')]\n"
   ]
  },
  {
   "cell_type": "code",
   "execution_count": 84,
   "id": "b33d6392",
   "metadata": {
    "scrolled": false
   },
   "outputs": [
    {
     "name": "stdout",
     "output_type": "stream",
     "text": [
      "        From Stage Ticket Issued Time\n",
      "0        ANNA UNIV              08:51\n",
      "1       CHEMMANCHE              09:51\n",
      "2           CHURCH              09:58\n",
      "3       KUMARAN NG              09:48\n",
      "4          NAVALUR              09:54\n",
      "5         SAIDAPET              08:42\n",
      "6   SHOLINGANALLUR              09:43\n",
      "7        SRP TOOLS              09:10\n",
      "8          T.NAGAR              08:35\n",
      "9   THORAIPAKKAMAM              09:25\n",
      "10            WPTC              09:06\n"
     ]
    }
   ],
   "source": [
    "import numpy as np\n",
    "bus_stages = ['T.NAGAR', 'SAIDAPET', 'ANNA UNIV', 'WPTC', 'SRP TOOLS', 'KANDANCHAV', 'THORAIPAKKAM', \n",
    "              'M K CHAVADI', 'KARAPAKKAM', 'SHOLINGANALLUR', 'KUMARAN NG', 'CHEMMANCHE', 'NAVALUR', \n",
    "              'SIPCOT', 'CHURCH', 'PAL. CHEMI', 'HINDUSTAN', 'KELAMBAKKAM', 'KOMAN NAGAR', 'ENGG', \n",
    "              'CHENGAMMAL', 'KALAVAKKAM', 'THIRUPORUR']\n",
    "\n",
    "# Convert 'Ticket Issued Time' to datetime\n",
    "df['Ticket Issued Time'] = pd.to_datetime(df['Ticket Issued Time'], format='%H:%M:%S')\n",
    "\n",
    "# Define the time interval\n",
    "start_time = pd.to_datetime('08:00:00', format='%H:%M:%S').time()\n",
    "end_time = pd.to_datetime('09:59:59', format='%H:%M:%S').time()\n",
    "\n",
    "# Filter rows where 'Ticket Issued Time' is between 8:00:00 and 8:59:59\n",
    "df_filtered = df[(df['Ticket Issued Time'].dt.time >= start_time) & (df['Ticket Issued Time'].dt.time <= end_time)]\n",
    "\n",
    "# Group by 'From Stage' and calculate the average 'Ticket Issued Time' for each group (hours and minutes only)\n",
    "def average_hour_minute(times):\n",
    "    total_minutes = times.dt.hour * 60 + times.dt.minute\n",
    "    avg_minutes = total_minutes.mean()\n",
    "    avg_hour = int(avg_minutes // 60)\n",
    "    avg_minute = int(avg_minutes % 60)\n",
    "    return f'{avg_hour:02}:{avg_minute:02}'\n",
    "\n",
    "avg_ticket_issued_time = df_filtered.groupby('From Stage')['Ticket Issued Time'].apply(average_hour_minute).reset_index()\n",
    "\n",
    "# Display the result\n",
    "print(avg_ticket_issued_time)\n"
   ]
  },
  {
   "cell_type": "code",
   "execution_count": 85,
   "id": "35483743",
   "metadata": {},
   "outputs": [
    {
     "name": "stdout",
     "output_type": "stream",
     "text": [
      "T.NAGAR\n",
      " \n",
      "Average Time: 08:35:00\n",
      "For stage T.NAGAR, average minute: 35\n",
      "SAIDAPET\n",
      " \n",
      "Average Time: 08:42:00\n",
      "For stage SAIDAPET, average minute: 42\n",
      "ANNA UNIV\n",
      " \n",
      "Average Time: 08:49:00\n",
      "For stage ANNA UNIV, average minute: 49\n",
      "WPTC\n",
      " \n",
      "Average Time: 09:06:00\n",
      "For stage WPTC, average minute: 6\n",
      "SRP TOOLS\n",
      " \n",
      "Average Time: 09:10:00\n",
      "For stage SRP TOOLS, average minute: 10\n",
      "KANDANCHAV\n",
      " \n"
     ]
    },
    {
     "ename": "ValueError",
     "evalue": "cannot convert float NaN to integer",
     "output_type": "error",
     "traceback": [
      "\u001b[0;31m---------------------------------------------------------------------------\u001b[0m",
      "\u001b[0;31mValueError\u001b[0m                                Traceback (most recent call last)",
      "Cell \u001b[0;32mIn[85], line 21\u001b[0m\n\u001b[1;32m     18\u001b[0m     average_minute \u001b[38;5;241m=\u001b[39m \u001b[38;5;241m0\u001b[39m\n\u001b[1;32m     20\u001b[0m average_minute_rounded \u001b[38;5;241m=\u001b[39m \u001b[38;5;28mround\u001b[39m(average_minute)\n\u001b[0;32m---> 21\u001b[0m average_time \u001b[38;5;241m=\u001b[39m datetime\u001b[38;5;241m.\u001b[39mtime(\u001b[38;5;28mint\u001b[39m(average_hour), \u001b[38;5;28mint\u001b[39m(average_minute_rounded))\n\u001b[1;32m     23\u001b[0m \u001b[38;5;28mprint\u001b[39m(\u001b[38;5;124m\"\u001b[39m\u001b[38;5;124mAverage Time:\u001b[39m\u001b[38;5;124m\"\u001b[39m, average_time)\n\u001b[1;32m     25\u001b[0m \u001b[38;5;66;03m# Print the rounded average minute\u001b[39;00m\n",
      "\u001b[0;31mValueError\u001b[0m: cannot convert float NaN to integer"
     ]
    }
   ],
   "source": [
    "\n",
    "for stage in bus_stages:\n",
    "    print(stage)\n",
    "    print(\" \")\n",
    "    df_stage = df[df['From Stage'] == stage].copy()\n",
    "    df_stage['Ticket Issued Time'] = pd.to_datetime(df_stage['Ticket Issued Time'], format='%H:%M:%S', errors='coerce')\n",
    "    df_stage['Hour'] = df_stage['Ticket Issued Time'].dt.hour \n",
    "    df_stage['Hour'] = df_stage['Ticket Issued Time'].dt.hour\n",
    "    df_stage['Minute'] = df_stage['Ticket Issued Time'].dt.minute\n",
    "\n",
    "    if not df_stage[df_stage['Hour'] == 8].empty:\n",
    "        df_stage = df_stage[df_stage['Hour'] == 8]\n",
    "    else:\n",
    "        df_stage = df_stage[df_stage['Hour'] == 9]\n",
    "\n",
    "    average_hour = df_stage['Hour'].mean()\n",
    "    average_minute = df_stage['Minute'].mean()\n",
    "    if np.isnan(average_minute):\n",
    "        average_minute = 0\n",
    "    \n",
    "    average_minute_rounded = round(average_minute)\n",
    "    average_time = datetime.time(int(average_hour), int(average_minute_rounded))\n",
    "\n",
    "    print(\"Average Time:\", average_time)\n",
    "    \n",
    "    # Print the rounded average minute\n",
    "    print(f\"For stage {stage}, average minute: {average_minute_rounded}\")"
   ]
  },
  {
   "cell_type": "code",
   "execution_count": null,
   "id": "90f08d46",
   "metadata": {},
   "outputs": [],
   "source": []
  },
  {
   "cell_type": "code",
   "execution_count": null,
   "id": "faba9cbf",
   "metadata": {},
   "outputs": [],
   "source": []
  },
  {
   "cell_type": "code",
   "execution_count": null,
   "id": "a822ec6a",
   "metadata": {},
   "outputs": [],
   "source": [
    "import pandas as pd\n",
    "\n",
    "# Assuming your data is in a DataFrame called df\n",
    "df = pd.DataFrame({\n",
    "    'Schedule Name': [47453, 47454, 47455, 47456, 47457, 51794, 51795, 51796, 51797, 51798],\n",
    "    'Adult': [1, 1, 1, 1, 1, 4, 1, 1, 1, 1],\n",
    "    'Ticket Issued Time': ['05:23:59', '05:25:16', '05:25:27', '05:25:55', '05:26:28', '23:04:37', '23:04:55', '23:05:34', '23:08:19', '23:08:35'],\n",
    "    'From Stage': ['T.NAGAR', 'SAIDAPET', 'SAIDAPET', 'SAIDAPET', 'SAIDAPET', 'SHOLINGANALLUR', 'SHOLINGANALLUR', 'SHOLINGANALLUR', 'KUMARAN NG', 'KUMARAN NG'],\n",
    "    'To Stage': ['M K CHAVADI', 'THORAIPAKKAMAM', 'PAL. CHEMI', 'THIRUPORUR', 'KANDANCHAV', 'KELAMBAKKAMM', 'NAVALUR', 'NAVALUR', 'NAVALUR', 'CHENGAMMAL'],\n",
    "    'Source': ['T.NAGAR', 'T.NAGAR', 'T.NAGAR', 'T.NAGAR', 'T.NAGAR', 'T.NAGAR', 'T.NAGAR', 'T.NAGAR', 'T.NAGAR', 'T.NAGAR'],\n",
    "    'Destination': ['THIRUPORUR', 'THIRUPORUR', 'THIRUPORUR', 'THIRUPORUR', 'THIRUPORUR', 'THIRUPORUR', 'THIRUPORUR', 'THIRUPORUR', 'THIRUPORUR', 'THIRUPORUR']\n",
    "})\n",
    "\n",
    "# Convert 'Ticket Issued Time' to datetime\n",
    "df['Ticket Issued Time'] = pd.to_datetime(df['Ticket Issued Time'], format='%H:%M:%S').dt.time\n",
    "\n",
    "# Group by 'From Stage' and find the minimum 'Ticket Issued Time' for each group\n",
    "min_ticket_issued_time = df.groupby('From Stage')['Ticket Issued Time'].min().reset_index()\n",
    "\n",
    "# Display the result\n",
    "print(min_ticket_issued_time)\n"
   ]
  },
  {
   "cell_type": "code",
   "execution_count": null,
   "id": "5f67fd1d",
   "metadata": {},
   "outputs": [],
   "source": []
  },
  {
   "cell_type": "code",
   "execution_count": null,
   "id": "63416091",
   "metadata": {},
   "outputs": [],
   "source": []
  },
  {
   "cell_type": "code",
   "execution_count": null,
   "id": "db227fcc",
   "metadata": {},
   "outputs": [],
   "source": []
  },
  {
   "cell_type": "code",
   "execution_count": null,
   "id": "f0bb2b77",
   "metadata": {},
   "outputs": [],
   "source": []
  },
  {
   "cell_type": "code",
   "execution_count": null,
   "id": "0e278416",
   "metadata": {},
   "outputs": [],
   "source": []
  },
  {
   "cell_type": "code",
   "execution_count": null,
   "id": "00af8525",
   "metadata": {},
   "outputs": [],
   "source": []
  },
  {
   "cell_type": "code",
   "execution_count": null,
   "id": "3180808f",
   "metadata": {},
   "outputs": [],
   "source": []
  },
  {
   "cell_type": "code",
   "execution_count": null,
   "id": "330f919a",
   "metadata": {},
   "outputs": [],
   "source": []
  },
  {
   "cell_type": "code",
   "execution_count": null,
   "id": "aa344061",
   "metadata": {},
   "outputs": [],
   "source": []
  }
 ],
 "metadata": {
  "kernelspec": {
   "display_name": "Python 3 (ipykernel)",
   "language": "python",
   "name": "python3"
  },
  "language_info": {
   "codemirror_mode": {
    "name": "ipython",
    "version": 3
   },
   "file_extension": ".py",
   "mimetype": "text/x-python",
   "name": "python",
   "nbconvert_exporter": "python",
   "pygments_lexer": "ipython3",
   "version": "3.11.5"
  }
 },
 "nbformat": 4,
 "nbformat_minor": 5
}
