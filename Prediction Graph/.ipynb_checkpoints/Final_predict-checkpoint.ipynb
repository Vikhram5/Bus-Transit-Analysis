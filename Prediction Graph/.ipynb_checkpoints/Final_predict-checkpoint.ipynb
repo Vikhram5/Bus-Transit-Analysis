{
 "cells": [
  {
   "cell_type": "markdown",
   "id": "c65967b7",
   "metadata": {},
   "source": [
    "## Predict passenger count at a stage"
   ]
  },
  {
   "cell_type": "markdown",
   "id": "6c183131",
   "metadata": {},
   "source": [
    "### With the help of cumulative passenger profile"
   ]
  },
  {
   "cell_type": "code",
   "execution_count": null,
   "id": "9f7eb600",
   "metadata": {},
   "outputs": [],
   "source": [
    "import pandas as pd \n",
    "import numpy as np\n",
    "df=pd.read_csv(\"speed-table.csv\")\n",
    "\n",
    "bus_stages = [\n",
    "    'T.NAGAR', 'SAIDAPET', 'ANNA UNIV', 'WPTC', 'SRP TOOLS',\n",
    "    'KANDANCHAV', 'THORAIPAKKAM', 'M K CHAVADI', 'KARAPAKKAM',\n",
    "    'SHOLINGANALLUR', 'KUMARAN NG', 'CHEMMANCHE', 'NAVALUR',\n",
    "    'SIPCOT', 'CHURCH', 'PAL. CHEMI', 'HINDUSTAN', 'KELAMBAKKAM',\n",
    "    'KOMAN NAGAR', 'ENGG', 'CHENGAMMAL', 'KALAVAKKAM','THIRUPORUR'\n",
    "]"
   ]
  },
  {
   "cell_type": "code",
   "execution_count": null,
   "id": "5e0ac87b",
   "metadata": {
    "scrolled": true
   },
   "outputs": [],
   "source": [
    "distance_df=pd.read_csv(\"distance-time.csv\")\n",
    "distance_df.drop(columns=['Unnamed: 0'],inplace=True)\n",
    "for column in df.columns:\n",
    "    if column == \"TIME\":\n",
    "        continue\n",
    "    distance = distance_df.loc[distance_df[\"Time Interval\"] == column, \"Distance\"].iloc[0]\n",
    "    df[column] = ((distance / df[column]) * 60).apply(np.ceil)\n",
    "df"
   ]
  },
  {
   "cell_type": "code",
   "execution_count": null,
   "id": "6f092a0a",
   "metadata": {
    "scrolled": true
   },
   "outputs": [],
   "source": [
    "from datetime import datetime, timedelta\n",
    "\n",
    "start_time = input(\"Enter start time (HH:MM:SS): \")\n",
    "start_datetime = datetime.strptime(start_time, \"%H:%M:%S\")\n",
    "hour_time = start_datetime.hour\n",
    "stage_times = []\n",
    "stage_times.append((0, start_datetime.strftime(\"%H:%M:%S\")))\n",
    "\n",
    "\n",
    "for i in range(1, 23):\n",
    "    duration_minutes = df.iloc[hour_time, i]\n",
    "    end_datetime = start_datetime + timedelta(minutes=duration_minutes)\n",
    "    stage_times.append((i, end_datetime.strftime('%H:%M:%S')))\n",
    "    start_datetime=end_datetime\n",
    "    \n",
    "stage_times_df = pd.DataFrame(stage_times, columns=['Stage Number', 'End Time'])\n",
    "stages_df = pd.DataFrame(bus_stages, columns=['Bus Stage'])\n",
    "time_df=pd.concat([stages_df,stage_times_df],axis=1)\n",
    "time_df"
   ]
  },
  {
   "cell_type": "code",
   "execution_count": null,
   "id": "8f40579b",
   "metadata": {},
   "outputs": [],
   "source": []
  },
  {
   "cell_type": "code",
   "execution_count": null,
   "id": "575e8f81",
   "metadata": {},
   "outputs": [],
   "source": [
    "df=pd.read_csv('04-02-19.csv')\n",
    "bus_no=519\n",
    "df = df[df['Schedule Name'].str.contains(rf'\\b{bus_no}\\b')]\n",
    "\n",
    "cols =['Schedule Name','Ticket Issued Time','Adult','From Stage','To Stage','Source','Destination']\n",
    "df = df[cols]\n",
    "df =df[(df['Source']=='T.NAGAR') & (df['Destination']=='THIRUPORUR')]"
   ]
  },
  {
   "cell_type": "code",
   "execution_count": null,
   "id": "48681911",
   "metadata": {},
   "outputs": [],
   "source": [
    "from_stage=input(\"Enter From Stage: \").upper()\n",
    "to_stage=input(\"Enter To Stage: \").upper()\n",
    "\n",
    "df=df[(df['From Stage']==from_stage) & (df['To Stage']==to_stage)]\n",
    "df['Ticket Issued Time'] = pd.to_datetime(df['Ticket Issued Time'], format='%H:%M:%S', errors='coerce')\n",
    "df['Hour']=df['Ticket Issued Time'].dt.hour\n",
    "\n",
    "df= df.groupby('Hour')['Schedule Name'].count().reset_index()\n",
    "df.columns = ['Hour', 'Bus Count']\n",
    "\n",
    "#All hours\n",
    "hours= pd.DataFrame({'Hour': range(24)})\n",
    "df=hours.merge(df, on='Hour', how='left').fillna(0)\n",
    "\n",
    "df['Bus Count'] = df['Bus Count'].astype(int)\n",
    "df['Cumulative Boarding'] = df['Bus Count'].cumsum()\n",
    "df['Minutes'] = df['Hour'] * 60\n",
    "\n",
    "df"
   ]
  },
  {
   "cell_type": "code",
   "execution_count": null,
   "id": "abb24eee",
   "metadata": {},
   "outputs": [],
   "source": [
    "import pandas as pd\n",
    "import matplotlib.pyplot as plt\n",
    "\n",
    "def estimated_boarding(target_time):\n",
    "    target_minutes = pd.to_datetime(target_time).hour * 60 + pd.to_datetime(target_time).minute\n",
    "    \n",
    "    previous_index = df[df['Minutes'] <= target_minutes].index[-1]\n",
    "    next_index = previous_index + 1\n",
    "\n",
    "    # Get the corresponding minutes and cumulative boarding counts\n",
    "    previous_minutes = df.loc[previous_index, 'Minutes']\n",
    "    next_minutes = df.loc[next_index, 'Minutes']\n",
    "    previous_boarding = df.loc[previous_index, 'Cumulative Boarding']\n",
    "    next_boarding = df.loc[next_index, 'Cumulative Boarding']\n",
    "\n",
    "    #Linear Interpolation formating\n",
    "    ratio = (target_minutes - previous_minutes) / (next_minutes-previous_minutes)\n",
    "    estimated_boarding = previous_boarding + (next_boarding-previous_boarding)* ratio\n",
    "    return estimated_boarding\n",
    "\n",
    "\n",
    "# target_time =input(\"Enter the time: \")\n",
    "stage= time_df.loc[time_df['Bus Stage'] == 'SAIDAPET']\n",
    "target_time= stage.iloc[-1]['End Time']\n",
    "\n",
    "estimated_count = estimated_boarding(target_time)"
   ]
  },
  {
   "cell_type": "code",
   "execution_count": null,
   "id": "5c51b179",
   "metadata": {},
   "outputs": [],
   "source": [
    "plt.figure(figsize=(10, 6))\n",
    "plt.plot(df['Hour'], df['Cumulative Boarding'], linestyle='-', color='b', label='Cumulative Boarding')\n",
    "plt.scatter([pd.to_datetime(target_time).hour + pd.to_datetime(target_time).minute / 60], [estimated_count], color='r', marker='o', label=f'Estimated at {target_time}')\n",
    "\n",
    "# Plot dotted lines to x-axis and y-axis\n",
    "plt.plot([pd.to_datetime(target_time).hour + pd.to_datetime(target_time).minute / 60, pd.to_datetime(target_time).hour + pd.to_datetime(target_time).minute / 60], [0, estimated_count], linestyle='--', color='r')\n",
    "plt.plot([0, pd.to_datetime(target_time).hour + pd.to_datetime(target_time).minute / 60], [estimated_count, estimated_count], linestyle='--', color='r')\n",
    "\n",
    "plt.title(f\"{from_stage} - {to_stage}\",fontsize=15)\n",
    "plt.suptitle(\"Estimated Time\")\n",
    "plt.xlabel('Hour', fontsize=14)\n",
    "plt.ylabel('Cumulative Boarding', fontsize=14)\n",
    "\n",
    "plt.xticks(range(24), fontsize=12)\n",
    "plt.yticks(fontsize=12)\n",
    "plt.legend()\n",
    "plt.grid(True)\n",
    "plt.tight_layout()\n",
    "\n",
    "# Set x-axis and y-axis limits to ensure lines touch the axis\n",
    "plt.xlim(0, 24)\n",
    "plt.ylim(0, max(df['Cumulative Boarding']))\n",
    "plt.show()\n",
    "\n",
    "print(estimated_count)"
   ]
  },
  {
   "cell_type": "code",
   "execution_count": null,
   "id": "7337e4a6",
   "metadata": {},
   "outputs": [],
   "source": []
  },
  {
   "cell_type": "code",
   "execution_count": null,
   "id": "bfe07801",
   "metadata": {},
   "outputs": [],
   "source": []
  },
  {
   "cell_type": "code",
   "execution_count": null,
   "id": "1ca683ca",
   "metadata": {},
   "outputs": [],
   "source": []
  },
  {
   "cell_type": "code",
   "execution_count": null,
   "id": "c42b39a3",
   "metadata": {},
   "outputs": [],
   "source": []
  },
  {
   "cell_type": "code",
   "execution_count": null,
   "id": "0248f2fd",
   "metadata": {},
   "outputs": [],
   "source": []
  },
  {
   "cell_type": "code",
   "execution_count": null,
   "id": "59e7ea89",
   "metadata": {},
   "outputs": [],
   "source": []
  },
  {
   "cell_type": "code",
   "execution_count": null,
   "id": "78d0b04f",
   "metadata": {},
   "outputs": [],
   "source": []
  },
  {
   "cell_type": "code",
   "execution_count": null,
   "id": "5a22eb30",
   "metadata": {},
   "outputs": [],
   "source": []
  }
 ],
 "metadata": {
  "kernelspec": {
   "display_name": "Python 3 (ipykernel)",
   "language": "python",
   "name": "python3"
  },
  "language_info": {
   "codemirror_mode": {
    "name": "ipython",
    "version": 3
   },
   "file_extension": ".py",
   "mimetype": "text/x-python",
   "name": "python",
   "nbconvert_exporter": "python",
   "pygments_lexer": "ipython3",
   "version": "3.11.5"
  }
 },
 "nbformat": 4,
 "nbformat_minor": 5
}
