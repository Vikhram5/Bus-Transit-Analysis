{
 "cells": [
  {
   "cell_type": "markdown",
   "id": "b4bae61f",
   "metadata": {},
   "source": [
    "## Bus Count Hourly wise"
   ]
  },
  {
   "cell_type": "code",
   "execution_count": 5,
   "id": "15dbeb15",
   "metadata": {
    "scrolled": true
   },
   "outputs": [
    {
     "name": "stdout",
     "output_type": "stream",
     "text": [
      "Enter File Name: 05-02-19.csv\n",
      "Enter 'up' or 'down': up\n",
      "<class 'pandas.core.frame.DataFrame'>\n",
      "RangeIndex: 48730 entries, 0 to 48729\n",
      "Data columns (total 30 columns):\n",
      " #   Column              Non-Null Count  Dtype \n",
      "---  ------              --------------  ----- \n",
      " 0   WayBill No          48730 non-null  object\n",
      " 1   Depot               48730 non-null  object\n",
      " 2   Schedule Name       48730 non-null  object\n",
      " 3   ETM No              48730 non-null  object\n",
      " 4   Out Date            48730 non-null  object\n",
      " 5   Out Time            48730 non-null  object\n",
      " 6   In Date             48523 non-null  object\n",
      " 7   In Time             48730 non-null  object\n",
      " 8   Total Amount        48730 non-null  int64 \n",
      " 9   Adult               48730 non-null  int64 \n",
      " 10  Child               48730 non-null  int64 \n",
      " 11  Ticket Issued Date  48730 non-null  object\n",
      " 12  Ticket Issued Time  48730 non-null  object\n",
      " 13  From Stage          48730 non-null  object\n",
      " 14  To Stage            48730 non-null  object\n",
      " 15  Fleet No            48730 non-null  object\n",
      " 16  Denomination        48730 non-null  int64 \n",
      " 17  Ticket Type         48730 non-null  object\n",
      " 18  Luggage             48730 non-null  int64 \n",
      " 19  Ticket_No           48730 non-null  object\n",
      " 20  Trip No             48730 non-null  int64 \n",
      " 21  Concession          48730 non-null  int64 \n",
      " 22  Conductor ID        48730 non-null  object\n",
      " 23  Driver ID           48730 non-null  object\n",
      " 24  Trip Start Date     48730 non-null  object\n",
      " 25  Trip Start Time     48730 non-null  object\n",
      " 26  Trip End Date       48730 non-null  object\n",
      " 27  Trip End Time       48730 non-null  object\n",
      " 28  Source              48730 non-null  object\n",
      " 29  Destination         48730 non-null  object\n",
      "dtypes: int64(7), object(23)\n",
      "memory usage: 11.2+ MB\n"
     ]
    }
   ],
   "source": [
    "import pandas as pd\n",
    "import numpy as np\n",
    "import os \n",
    "\n",
    "#input for any file name\n",
    "file_name=input(\"Enter File Name: \")\n",
    "journey=input(\"Enter 'up' or 'down': \").lower()\n",
    "file_path = os.path.join('week_data', journey, file_name)\n",
    "\n",
    "if not os.path.isfile(file_path):\n",
    "    print(f\"Error: File '{file_name}' does not exist.\")\n",
    "else:\n",
    "    df=pd.read_csv(file_path)\n",
    "df.info()"
   ]
  },
  {
   "cell_type": "code",
   "execution_count": null,
   "id": "9b13242e",
   "metadata": {
    "scrolled": false
   },
   "outputs": [],
   "source": [
    "bus_no = int(input(\"Enter bus Number: \"))\n",
    "df = df[df['Schedule Name'].str.contains(rf'\\b{bus_no}\\b')]"
   ]
  },
  {
   "cell_type": "code",
   "execution_count": null,
   "id": "b47064ef",
   "metadata": {},
   "outputs": [],
   "source": [
    "cols=['Schedule Name','Trip Start Time','Source','Destination']\n",
    "df=df[cols]\n",
    "df=df.drop_duplicates()\n",
    "\n",
    "source_stage=input(\"Enter source: \")\n",
    "destination_stage=input(\"Enter destination: \")\n",
    "df=df[(df['Source']==source_stage) & (df['Destination']==destination_stage)]\n",
    "\n",
    "df['Trip Start Time'] = pd.to_datetime(df['Trip Start Time'], format='%H:%M:%S')\n",
    "df['Hour']=df['Trip Start Time'].dt.hour\n",
    "\n",
    "cols=['Schedule Name','Hour']\n",
    "\n",
    "bus_df=df.groupby('Hour')['Schedule Name'].count().reset_index()\n",
    "bus_df.columns=['Hour','Bus Count']\n",
    "\n",
    "def hour_range(hour):\n",
    "    if hour==23:\n",
    "        return f\"{hour}-0\"\n",
    "    else:\n",
    "        return f\"{hour}-{hour+1}\"\n",
    "bus_df['Hour'] = bus_df['Hour'].apply(hour_range)\n",
    "bus_df"
   ]
  },
  {
   "cell_type": "code",
   "execution_count": null,
   "id": "e138250f",
   "metadata": {},
   "outputs": [],
   "source": [
    "import matplotlib.pyplot as plt\n",
    "\n",
    "# Plotting the bus count\n",
    "plt.figure(figsize=(10, 6))\n",
    "plt.bar(bus_df['Hour'], bus_df['Bus Count'], color='orange')\n",
    "plt.title('Bus Count by Hour')\n",
    "plt.xlabel('Hour Range')\n",
    "plt.ylabel('Bus Count')\n",
    "plt.xticks(rotation=45)\n",
    "plt.grid(axis='y', linestyle='--', alpha=0.7)\n",
    "\n",
    "# Identifying the peak bus count\n",
    "peak_hour = bus_df.loc[bus_df['Bus Count'].idxmax()]\n",
    "plt.annotate(f'Peak: {peak_hour[\"Bus Count\"]} buses', xy=(peak_hour['Hour'], peak_hour['Bus Count']),\n",
    "             xytext=(peak_hour['Hour'], peak_hour['Bus Count'] + 2),\n",
    "             arrowprops=dict(facecolor='black', arrowstyle='->'),\n",
    "             horizontalalignment='center')\n",
    "\n",
    "plt.tight_layout()\n",
    "plt.show()\n"
   ]
  },
  {
   "cell_type": "code",
   "execution_count": null,
   "id": "818541bf",
   "metadata": {},
   "outputs": [],
   "source": []
  },
  {
   "cell_type": "code",
   "execution_count": null,
   "id": "12ecea84",
   "metadata": {},
   "outputs": [],
   "source": []
  },
  {
   "cell_type": "code",
   "execution_count": null,
   "id": "c380590c",
   "metadata": {},
   "outputs": [],
   "source": []
  }
 ],
 "metadata": {
  "kernelspec": {
   "display_name": "Python 3 (ipykernel)",
   "language": "python",
   "name": "python3"
  },
  "language_info": {
   "codemirror_mode": {
    "name": "ipython",
    "version": 3
   },
   "file_extension": ".py",
   "mimetype": "text/x-python",
   "name": "python",
   "nbconvert_exporter": "python",
   "pygments_lexer": "ipython3",
   "version": "3.11.5"
  }
 },
 "nbformat": 4,
 "nbformat_minor": 5
}
